{
 "cells": [
  {
   "cell_type": "markdown",
   "metadata": {},
   "source": [
    "## Test of the RINN model on a linear ODE\n",
    "\n",
    "This notebook is an implementation of the RINN integration scheme given a known linear ODE, it can be used mostly to evaluate the stability of the learnt integration scheme"
   ]
  },
  {
   "cell_type": "code",
   "execution_count": 1,
   "metadata": {},
   "outputs": [],
   "source": [
    "from generate_data import generate_data\n",
    "import numpy as np\n",
    "import matplotlib.pyplot as plt\n",
    "import torch\n",
    "from torch.autograd import Variable\n",
    "from RINN_withHopti import RINN_model\n",
    "from utils import RMSE"
   ]
  },
  {
   "cell_type": "code",
   "execution_count": 2,
   "metadata": {},
   "outputs": [],
   "source": [
    "# generating training data\n",
    "class GD:\n",
    "    model = 'Adv_Dif_1D_Real'\n",
    "    class parameters:\n",
    "        w = -0.5\n",
    "        x0 = 0.5\n",
    "        t0 = 0\n",
    "    dt_integration =0.01# integration time\n",
    "    dt_states = 1 # number of integeration times between consecutive states (for xt and catalog)\n",
    "    dt_obs = 8# number of integration times between consecutive observations (for yo)\n",
    "    var_obs = np.array([0]) # indices of the observed variables\n",
    "    nb_loop_train = 1000.1 # size of the catalog\n",
    "    nb_loop_test = 100 # size of the true state and noisy observations\n",
    "    sigma2_catalog = 0.0 # variance of the model error to generate the catalog\n",
    "    sigma2_obs = 2.0 # variance of the observation error to generate observation\n",
    "    \n",
    "# run the data generation\n",
    "catalog, xt, yo = generate_data(GD)\n",
    "#AnDA_RMSE(catalog.true_solution,catalog.euler_integration)\n",
    "#AnDA_RMSE(catalog.true_solution,catalog.num_integration)\n",
    "#training data\n",
    "batch_size = catalog.true_solution[:-10-1,:].shape[0]\n",
    "X_train = np.reshape(catalog.true_solution[:-10-1,:],(int(catalog.true_solution[1:-10,:].shape[0]/batch_size),batch_size,catalog.true_solution[1:-10,:].shape[1]))\n",
    "Grad_t  = np.reshape(np.gradient(catalog.true_solution[:-10-1,0])/GD.dt_integration,(X_train.shape))\n",
    "Y_train = np.reshape(catalog.true_solution[1:-10,:],(int(catalog.true_solution[1:-10,:].shape[0]/batch_size),batch_size,catalog.true_solution[1:-10,:].shape[1]))"
   ]
  },
  {
   "cell_type": "code",
   "execution_count": 3,
   "metadata": {},
   "outputs": [
    {
     "data": {
      "text/plain": [
       "<matplotlib.legend.Legend at 0x7f93cac21828>"
      ]
     },
     "execution_count": 3,
     "metadata": {},
     "output_type": "execute_result"
    },
    {
     "data": {
      "image/png": "[encoded data removed]",
      "text/plain": [
       "<Figure size 432x288 with 1 Axes>"
      ]
     },
     "metadata": {
      "needs_background": "light"
     },
     "output_type": "display_data"
    }
   ],
   "source": [
    "plt.plot(catalog.true_solution[:1000],label = 'True Solution')\n",
    "plt.plot(catalog.num_integration[:1000],label = 'ADAMs Integration')\n",
    "plt.plot(catalog.euler_integration[:1000],label = 'Euler Integration')\n",
    "plt.legend()"
   ]
  },
  {
   "cell_type": "code",
   "execution_count": 4,
   "metadata": {},
   "outputs": [
    {
     "data": {
      "text/plain": [
       "(1, 100000, 1)"
      ]
     },
     "execution_count": 4,
     "metadata": {},
     "output_type": "execute_result"
    }
   ],
   "source": [
    "X_train.shape"
   ]
  },
  {
   "cell_type": "code",
   "execution_count": 5,
   "metadata": {},
   "outputs": [],
   "source": [
    "#NN parameters \n",
    "params = {}\n",
    "params['lin_coef']= GD.parameters.w\n",
    "params['dim_input']=1\n",
    "params['dim_output']=1\n",
    "params['dim_observations']=1\n",
    "params['dt_integration']=GD.dt_integration\n",
    "params['ntrain']=[0,200,0]\n",
    "pretrained = False\n",
    "path = None#'Lin_w=-05.pt'\n",
    "order=6#number of stages of the runge kutta scheme"
   ]
  },
  {
   "cell_type": "markdown",
   "metadata": {},
   "source": [
    "# learning the 6 stages RK integration scheme"
   ]
  },
  {
   "cell_type": "code",
   "execution_count": 6,
   "metadata": {},
   "outputs": [
    {
     "name": "stdout",
     "output_type": "stream",
     "text": [
      "Learning dynamical model\n",
      "Learning prediction model\n",
      "0 tensor(0.0030, dtype=torch.float64, grad_fn=<MseLossBackward>)\n",
      "1 tensor(5.6869e-11, dtype=torch.float64, grad_fn=<MseLossBackward>)\n",
      "2 tensor(5.8018e-11, dtype=torch.float64, grad_fn=<MseLossBackward>)\n",
      "3 tensor(5.8840e-11, dtype=torch.float64, grad_fn=<MseLossBackward>)\n"
     ]
    },
    {
     "name": "stderr",
     "output_type": "stream",
     "text": [
      "/data/home/AI4OAC-VM1/notebooks/AI4OAC/RINN/RINN_withHopti.py:142: UserWarning: torch.nn.utils.clip_grad_norm is now deprecated in favor of torch.nn.utils.clip_grad_norm_.\n",
      "  torch.nn.utils.clip_grad_norm(modelRINN.parameters(),5)\n"
     ]
    },
    {
     "name": "stdout",
     "output_type": "stream",
     "text": [
      "4 tensor(5.9469e-11, dtype=torch.float64, grad_fn=<MseLossBackward>)\n",
      "5 tensor(5.9967e-11, dtype=torch.float64, grad_fn=<MseLossBackward>)\n",
      "6 tensor(6.0368e-11, dtype=torch.float64, grad_fn=<MseLossBackward>)\n",
      "7 tensor(6.0695e-11, dtype=torch.float64, grad_fn=<MseLossBackward>)\n",
      "8 tensor(6.0964e-11, dtype=torch.float64, grad_fn=<MseLossBackward>)\n",
      "9 tensor(6.1185e-11, dtype=torch.float64, grad_fn=<MseLossBackward>)\n",
      "10 tensor(6.1368e-11, dtype=torch.float64, grad_fn=<MseLossBackward>)\n",
      "11 tensor(6.1520e-11, dtype=torch.float64, grad_fn=<MseLossBackward>)\n",
      "12 tensor(6.1646e-11, dtype=torch.float64, grad_fn=<MseLossBackward>)\n",
      "13 tensor(6.1750e-11, dtype=torch.float64, grad_fn=<MseLossBackward>)\n",
      "14 tensor(6.1837e-11, dtype=torch.float64, grad_fn=<MseLossBackward>)\n",
      "15 tensor(6.1909e-11, dtype=torch.float64, grad_fn=<MseLossBackward>)\n",
      "16 tensor(6.1968e-11, dtype=torch.float64, grad_fn=<MseLossBackward>)\n",
      "17 tensor(6.2017e-11, dtype=torch.float64, grad_fn=<MseLossBackward>)\n",
      "18 tensor(6.2058e-11, dtype=torch.float64, grad_fn=<MseLossBackward>)\n",
      "19 tensor(6.2092e-11, dtype=torch.float64, grad_fn=<MseLossBackward>)\n",
      "20 tensor(6.2120e-11, dtype=torch.float64, grad_fn=<MseLossBackward>)\n",
      "21 tensor(6.2143e-11, dtype=torch.float64, grad_fn=<MseLossBackward>)\n",
      "22 tensor(6.2162e-11, dtype=torch.float64, grad_fn=<MseLossBackward>)\n",
      "23 tensor(6.2177e-11, dtype=torch.float64, grad_fn=<MseLossBackward>)\n",
      "24 tensor(6.2190e-11, dtype=torch.float64, grad_fn=<MseLossBackward>)\n",
      "25 tensor(6.2200e-11, dtype=torch.float64, grad_fn=<MseLossBackward>)\n",
      "26 tensor(6.2208e-11, dtype=torch.float64, grad_fn=<MseLossBackward>)\n",
      "27 tensor(6.2215e-11, dtype=torch.float64, grad_fn=<MseLossBackward>)\n",
      "28 tensor(6.2221e-11, dtype=torch.float64, grad_fn=<MseLossBackward>)\n",
      "29 tensor(6.2225e-11, dtype=torch.float64, grad_fn=<MseLossBackward>)\n",
      "30 tensor(6.2228e-11, dtype=torch.float64, grad_fn=<MseLossBackward>)\n",
      "31 tensor(6.2231e-11, dtype=torch.float64, grad_fn=<MseLossBackward>)\n",
      "32 tensor(6.2233e-11, dtype=torch.float64, grad_fn=<MseLossBackward>)\n",
      "33 tensor(6.2235e-11, dtype=torch.float64, grad_fn=<MseLossBackward>)\n",
      "34 tensor(6.2236e-11, dtype=torch.float64, grad_fn=<MseLossBackward>)\n",
      "35 tensor(6.2236e-11, dtype=torch.float64, grad_fn=<MseLossBackward>)\n",
      "36 tensor(6.2237e-11, dtype=torch.float64, grad_fn=<MseLossBackward>)\n",
      "37 tensor(6.2237e-11, dtype=torch.float64, grad_fn=<MseLossBackward>)\n",
      "38 tensor(6.2237e-11, dtype=torch.float64, grad_fn=<MseLossBackward>)\n",
      "39 tensor(6.2237e-11, dtype=torch.float64, grad_fn=<MseLossBackward>)\n",
      "40 tensor(6.2236e-11, dtype=torch.float64, grad_fn=<MseLossBackward>)\n",
      "41 tensor(6.2236e-11, dtype=torch.float64, grad_fn=<MseLossBackward>)\n",
      "42 tensor(6.2235e-11, dtype=torch.float64, grad_fn=<MseLossBackward>)\n",
      "43 tensor(6.2235e-11, dtype=torch.float64, grad_fn=<MseLossBackward>)\n",
      "44 tensor(6.2234e-11, dtype=torch.float64, grad_fn=<MseLossBackward>)\n",
      "45 tensor(6.2233e-11, dtype=torch.float64, grad_fn=<MseLossBackward>)\n",
      "46 tensor(6.2233e-11, dtype=torch.float64, grad_fn=<MseLossBackward>)\n",
      "47 tensor(6.2232e-11, dtype=torch.float64, grad_fn=<MseLossBackward>)\n",
      "48 tensor(6.2231e-11, dtype=torch.float64, grad_fn=<MseLossBackward>)\n",
      "49 tensor(6.2230e-11, dtype=torch.float64, grad_fn=<MseLossBackward>)\n",
      "50 tensor(6.2229e-11, dtype=torch.float64, grad_fn=<MseLossBackward>)\n",
      "51 tensor(6.2228e-11, dtype=torch.float64, grad_fn=<MseLossBackward>)\n",
      "52 tensor(6.2227e-11, dtype=torch.float64, grad_fn=<MseLossBackward>)\n",
      "53 tensor(6.2226e-11, dtype=torch.float64, grad_fn=<MseLossBackward>)\n",
      "54 tensor(6.2225e-11, dtype=torch.float64, grad_fn=<MseLossBackward>)\n",
      "55 tensor(6.2224e-11, dtype=torch.float64, grad_fn=<MseLossBackward>)\n",
      "56 tensor(6.2223e-11, dtype=torch.float64, grad_fn=<MseLossBackward>)\n",
      "57 tensor(6.2222e-11, dtype=torch.float64, grad_fn=<MseLossBackward>)\n",
      "58 tensor(6.2221e-11, dtype=torch.float64, grad_fn=<MseLossBackward>)\n",
      "59 tensor(6.2219e-11, dtype=torch.float64, grad_fn=<MseLossBackward>)\n",
      "60 tensor(6.2218e-11, dtype=torch.float64, grad_fn=<MseLossBackward>)\n",
      "61 tensor(6.2217e-11, dtype=torch.float64, grad_fn=<MseLossBackward>)\n",
      "62 tensor(6.2216e-11, dtype=torch.float64, grad_fn=<MseLossBackward>)\n",
      "63 tensor(6.2215e-11, dtype=torch.float64, grad_fn=<MseLossBackward>)\n",
      "64 tensor(6.2214e-11, dtype=torch.float64, grad_fn=<MseLossBackward>)\n",
      "65 tensor(6.2212e-11, dtype=torch.float64, grad_fn=<MseLossBackward>)\n",
      "66 tensor(6.2211e-11, dtype=torch.float64, grad_fn=<MseLossBackward>)\n",
      "67 tensor(6.2210e-11, dtype=torch.float64, grad_fn=<MseLossBackward>)\n",
      "68 tensor(6.2209e-11, dtype=torch.float64, grad_fn=<MseLossBackward>)\n",
      "69 tensor(6.2208e-11, dtype=torch.float64, grad_fn=<MseLossBackward>)\n",
      "70 tensor(6.2206e-11, dtype=torch.float64, grad_fn=<MseLossBackward>)\n",
      "71 tensor(6.2205e-11, dtype=torch.float64, grad_fn=<MseLossBackward>)\n",
      "72 tensor(6.2204e-11, dtype=torch.float64, grad_fn=<MseLossBackward>)\n",
      "73 tensor(6.2203e-11, dtype=torch.float64, grad_fn=<MseLossBackward>)\n",
      "74 tensor(6.2201e-11, dtype=torch.float64, grad_fn=<MseLossBackward>)\n",
      "75 tensor(6.2200e-11, dtype=torch.float64, grad_fn=<MseLossBackward>)\n",
      "76 tensor(6.2199e-11, dtype=torch.float64, grad_fn=<MseLossBackward>)\n",
      "77 tensor(6.2197e-11, dtype=torch.float64, grad_fn=<MseLossBackward>)\n",
      "78 tensor(6.2196e-11, dtype=torch.float64, grad_fn=<MseLossBackward>)\n",
      "79 tensor(6.2195e-11, dtype=torch.float64, grad_fn=<MseLossBackward>)\n",
      "80 tensor(6.2193e-11, dtype=torch.float64, grad_fn=<MseLossBackward>)\n",
      "81 tensor(6.2192e-11, dtype=torch.float64, grad_fn=<MseLossBackward>)\n",
      "82 tensor(6.2191e-11, dtype=torch.float64, grad_fn=<MseLossBackward>)\n",
      "83 tensor(6.2189e-11, dtype=torch.float64, grad_fn=<MseLossBackward>)\n",
      "84 tensor(6.2188e-11, dtype=torch.float64, grad_fn=<MseLossBackward>)\n",
      "85 tensor(6.2187e-11, dtype=torch.float64, grad_fn=<MseLossBackward>)\n",
      "86 tensor(6.2185e-11, dtype=torch.float64, grad_fn=<MseLossBackward>)\n",
      "87 tensor(6.2184e-11, dtype=torch.float64, grad_fn=<MseLossBackward>)\n",
      "88 tensor(6.2182e-11, dtype=torch.float64, grad_fn=<MseLossBackward>)\n",
      "89 tensor(6.2181e-11, dtype=torch.float64, grad_fn=<MseLossBackward>)\n",
      "90 tensor(6.2180e-11, dtype=torch.float64, grad_fn=<MseLossBackward>)\n",
      "91 tensor(6.2178e-11, dtype=torch.float64, grad_fn=<MseLossBackward>)\n",
      "92 tensor(6.2177e-11, dtype=torch.float64, grad_fn=<MseLossBackward>)\n",
      "93 tensor(6.2175e-11, dtype=torch.float64, grad_fn=<MseLossBackward>)\n",
      "94 tensor(6.2174e-11, dtype=torch.float64, grad_fn=<MseLossBackward>)\n",
      "95 tensor(6.2172e-11, dtype=torch.float64, grad_fn=<MseLossBackward>)\n",
      "96 tensor(6.2171e-11, dtype=torch.float64, grad_fn=<MseLossBackward>)\n",
      "97 tensor(6.2169e-11, dtype=torch.float64, grad_fn=<MseLossBackward>)\n",
      "98 tensor(6.2168e-11, dtype=torch.float64, grad_fn=<MseLossBackward>)\n",
      "99 tensor(6.2166e-11, dtype=torch.float64, grad_fn=<MseLossBackward>)\n",
      "100 tensor(6.2165e-11, dtype=torch.float64, grad_fn=<MseLossBackward>)\n",
      "101 tensor(6.2163e-11, dtype=torch.float64, grad_fn=<MseLossBackward>)\n",
      "102 tensor(6.2162e-11, dtype=torch.float64, grad_fn=<MseLossBackward>)\n",
      "103 tensor(6.2160e-11, dtype=torch.float64, grad_fn=<MseLossBackward>)\n",
      "104 tensor(6.2159e-11, dtype=torch.float64, grad_fn=<MseLossBackward>)\n",
      "105 tensor(6.2157e-11, dtype=torch.float64, grad_fn=<MseLossBackward>)\n",
      "106 tensor(6.2156e-11, dtype=torch.float64, grad_fn=<MseLossBackward>)\n",
      "107 tensor(6.2154e-11, dtype=torch.float64, grad_fn=<MseLossBackward>)\n",
      "108 tensor(6.2153e-11, dtype=torch.float64, grad_fn=<MseLossBackward>)\n",
      "109 tensor(6.2151e-11, dtype=torch.float64, grad_fn=<MseLossBackward>)\n",
      "110 tensor(6.2149e-11, dtype=torch.float64, grad_fn=<MseLossBackward>)\n",
      "111 tensor(6.2148e-11, dtype=torch.float64, grad_fn=<MseLossBackward>)\n",
      "112 tensor(6.2146e-11, dtype=torch.float64, grad_fn=<MseLossBackward>)\n",
      "113 tensor(6.2145e-11, dtype=torch.float64, grad_fn=<MseLossBackward>)\n",
      "114 tensor(6.2143e-11, dtype=torch.float64, grad_fn=<MseLossBackward>)\n",
      "115 tensor(6.2141e-11, dtype=torch.float64, grad_fn=<MseLossBackward>)\n",
      "116 tensor(6.2140e-11, dtype=torch.float64, grad_fn=<MseLossBackward>)\n",
      "117 tensor(6.2138e-11, dtype=torch.float64, grad_fn=<MseLossBackward>)\n",
      "118 tensor(6.2136e-11, dtype=torch.float64, grad_fn=<MseLossBackward>)\n",
      "119 tensor(6.2135e-11, dtype=torch.float64, grad_fn=<MseLossBackward>)\n",
      "120 tensor(6.2133e-11, dtype=torch.float64, grad_fn=<MseLossBackward>)\n",
      "121 tensor(6.2131e-11, dtype=torch.float64, grad_fn=<MseLossBackward>)\n",
      "122 tensor(6.2130e-11, dtype=torch.float64, grad_fn=<MseLossBackward>)\n",
      "123 tensor(6.2128e-11, dtype=torch.float64, grad_fn=<MseLossBackward>)\n",
      "124 tensor(6.2126e-11, dtype=torch.float64, grad_fn=<MseLossBackward>)\n",
      "125 tensor(6.2125e-11, dtype=torch.float64, grad_fn=<MseLossBackward>)\n"
     ]
    },
    {
     "name": "stdout",
     "output_type": "stream",
     "text": [
      "126 tensor(6.2123e-11, dtype=torch.float64, grad_fn=<MseLossBackward>)\n",
      "127 tensor(6.2121e-11, dtype=torch.float64, grad_fn=<MseLossBackward>)\n",
      "128 tensor(6.2119e-11, dtype=torch.float64, grad_fn=<MseLossBackward>)\n",
      "129 tensor(6.2118e-11, dtype=torch.float64, grad_fn=<MseLossBackward>)\n",
      "130 tensor(6.2116e-11, dtype=torch.float64, grad_fn=<MseLossBackward>)\n",
      "131 tensor(6.2114e-11, dtype=torch.float64, grad_fn=<MseLossBackward>)\n",
      "132 tensor(6.2112e-11, dtype=torch.float64, grad_fn=<MseLossBackward>)\n",
      "133 tensor(6.2111e-11, dtype=torch.float64, grad_fn=<MseLossBackward>)\n",
      "134 tensor(6.2109e-11, dtype=torch.float64, grad_fn=<MseLossBackward>)\n",
      "135 tensor(6.2107e-11, dtype=torch.float64, grad_fn=<MseLossBackward>)\n",
      "136 tensor(6.2105e-11, dtype=torch.float64, grad_fn=<MseLossBackward>)\n",
      "137 tensor(6.2104e-11, dtype=torch.float64, grad_fn=<MseLossBackward>)\n",
      "138 tensor(6.2102e-11, dtype=torch.float64, grad_fn=<MseLossBackward>)\n",
      "139 tensor(6.2100e-11, dtype=torch.float64, grad_fn=<MseLossBackward>)\n",
      "140 tensor(6.2098e-11, dtype=torch.float64, grad_fn=<MseLossBackward>)\n",
      "141 tensor(6.2096e-11, dtype=torch.float64, grad_fn=<MseLossBackward>)\n",
      "142 tensor(6.2094e-11, dtype=torch.float64, grad_fn=<MseLossBackward>)\n",
      "143 tensor(6.2093e-11, dtype=torch.float64, grad_fn=<MseLossBackward>)\n",
      "144 tensor(6.2091e-11, dtype=torch.float64, grad_fn=<MseLossBackward>)\n",
      "145 tensor(6.2089e-11, dtype=torch.float64, grad_fn=<MseLossBackward>)\n",
      "146 tensor(6.2087e-11, dtype=torch.float64, grad_fn=<MseLossBackward>)\n",
      "147 tensor(6.2085e-11, dtype=torch.float64, grad_fn=<MseLossBackward>)\n",
      "148 tensor(6.2083e-11, dtype=torch.float64, grad_fn=<MseLossBackward>)\n",
      "149 tensor(6.2081e-11, dtype=torch.float64, grad_fn=<MseLossBackward>)\n",
      "150 tensor(6.2080e-11, dtype=torch.float64, grad_fn=<MseLossBackward>)\n",
      "151 tensor(6.2078e-11, dtype=torch.float64, grad_fn=<MseLossBackward>)\n",
      "152 tensor(6.2076e-11, dtype=torch.float64, grad_fn=<MseLossBackward>)\n",
      "153 tensor(6.2074e-11, dtype=torch.float64, grad_fn=<MseLossBackward>)\n",
      "154 tensor(6.2072e-11, dtype=torch.float64, grad_fn=<MseLossBackward>)\n",
      "155 tensor(6.2070e-11, dtype=torch.float64, grad_fn=<MseLossBackward>)\n",
      "156 tensor(6.2068e-11, dtype=torch.float64, grad_fn=<MseLossBackward>)\n",
      "157 tensor(6.2066e-11, dtype=torch.float64, grad_fn=<MseLossBackward>)\n",
      "158 tensor(6.2064e-11, dtype=torch.float64, grad_fn=<MseLossBackward>)\n",
      "159 tensor(6.2062e-11, dtype=torch.float64, grad_fn=<MseLossBackward>)\n",
      "160 tensor(6.2060e-11, dtype=torch.float64, grad_fn=<MseLossBackward>)\n",
      "161 tensor(6.2058e-11, dtype=torch.float64, grad_fn=<MseLossBackward>)\n",
      "162 tensor(6.2056e-11, dtype=torch.float64, grad_fn=<MseLossBackward>)\n",
      "163 tensor(6.2054e-11, dtype=torch.float64, grad_fn=<MseLossBackward>)\n",
      "164 tensor(6.2052e-11, dtype=torch.float64, grad_fn=<MseLossBackward>)\n",
      "165 tensor(6.2050e-11, dtype=torch.float64, grad_fn=<MseLossBackward>)\n",
      "166 tensor(6.2048e-11, dtype=torch.float64, grad_fn=<MseLossBackward>)\n",
      "167 tensor(6.2046e-11, dtype=torch.float64, grad_fn=<MseLossBackward>)\n",
      "168 tensor(6.2044e-11, dtype=torch.float64, grad_fn=<MseLossBackward>)\n",
      "169 tensor(6.2042e-11, dtype=torch.float64, grad_fn=<MseLossBackward>)\n",
      "170 tensor(6.2040e-11, dtype=torch.float64, grad_fn=<MseLossBackward>)\n",
      "171 tensor(6.2038e-11, dtype=torch.float64, grad_fn=<MseLossBackward>)\n",
      "172 tensor(6.2036e-11, dtype=torch.float64, grad_fn=<MseLossBackward>)\n",
      "173 tensor(6.2034e-11, dtype=torch.float64, grad_fn=<MseLossBackward>)\n",
      "174 tensor(6.2032e-11, dtype=torch.float64, grad_fn=<MseLossBackward>)\n",
      "175 tensor(6.2030e-11, dtype=torch.float64, grad_fn=<MseLossBackward>)\n",
      "176 tensor(6.2028e-11, dtype=torch.float64, grad_fn=<MseLossBackward>)\n",
      "177 tensor(6.2026e-11, dtype=torch.float64, grad_fn=<MseLossBackward>)\n",
      "178 tensor(6.2024e-11, dtype=torch.float64, grad_fn=<MseLossBackward>)\n",
      "179 tensor(6.2022e-11, dtype=torch.float64, grad_fn=<MseLossBackward>)\n",
      "180 tensor(6.2020e-11, dtype=torch.float64, grad_fn=<MseLossBackward>)\n",
      "181 tensor(6.2017e-11, dtype=torch.float64, grad_fn=<MseLossBackward>)\n",
      "182 tensor(6.2015e-11, dtype=torch.float64, grad_fn=<MseLossBackward>)\n",
      "183 tensor(6.2013e-11, dtype=torch.float64, grad_fn=<MseLossBackward>)\n",
      "184 tensor(6.2011e-11, dtype=torch.float64, grad_fn=<MseLossBackward>)\n",
      "185 tensor(6.2009e-11, dtype=torch.float64, grad_fn=<MseLossBackward>)\n",
      "186 tensor(6.2007e-11, dtype=torch.float64, grad_fn=<MseLossBackward>)\n",
      "187 tensor(6.2005e-11, dtype=torch.float64, grad_fn=<MseLossBackward>)\n",
      "188 tensor(6.2003e-11, dtype=torch.float64, grad_fn=<MseLossBackward>)\n",
      "189 tensor(6.2000e-11, dtype=torch.float64, grad_fn=<MseLossBackward>)\n",
      "190 tensor(6.1998e-11, dtype=torch.float64, grad_fn=<MseLossBackward>)\n",
      "191 tensor(6.1996e-11, dtype=torch.float64, grad_fn=<MseLossBackward>)\n",
      "192 tensor(6.1994e-11, dtype=torch.float64, grad_fn=<MseLossBackward>)\n",
      "193 tensor(6.1992e-11, dtype=torch.float64, grad_fn=<MseLossBackward>)\n",
      "194 tensor(6.1989e-11, dtype=torch.float64, grad_fn=<MseLossBackward>)\n",
      "195 tensor(6.1987e-11, dtype=torch.float64, grad_fn=<MseLossBackward>)\n",
      "196 tensor(6.1985e-11, dtype=torch.float64, grad_fn=<MseLossBackward>)\n",
      "197 tensor(6.1983e-11, dtype=torch.float64, grad_fn=<MseLossBackward>)\n",
      "198 tensor(6.1981e-11, dtype=torch.float64, grad_fn=<MseLossBackward>)\n",
      "199 tensor(6.1978e-11, dtype=torch.float64, grad_fn=<MseLossBackward>)\n",
      "optim integration model\n"
     ]
    }
   ],
   "source": [
    "# training RINN model\n",
    "dyn_mdl, dyn_mdl2, loss_hist, model_hopt = RINN_model(X_train[:,:,:], Y_train[:,:,:], Grad_t[:,:,:], params, order, pretrained ,path)"
   ]
  },
  {
   "cell_type": "markdown",
   "metadata": {},
   "source": [
    "# Test on a different integration timestep dt = 2"
   ]
  },
  {
   "cell_type": "code",
   "execution_count": 7,
   "metadata": {},
   "outputs": [],
   "source": [
    "#forecasting \n",
    "y_pred=np.zeros((1000,1))\n",
    "y_pred[0,:] = 0.5\n",
    "tmp = np.reshape(0.5,(1,1))\n",
    "tmp = Variable(torch.from_numpy(tmp).double())\n",
    "y_pred = Variable(torch.from_numpy(y_pred).double())\n",
    "\n",
    "test_dt = 2\n",
    "for i in range(1,1000):\n",
    "    y_pred[i,:] = dyn_mdl2(y_pred[i-1,:],test_dt,order)[0]#.data.numpy()"
   ]
  },
  {
   "cell_type": "code",
   "execution_count": 8,
   "metadata": {},
   "outputs": [
    {
     "name": "stdout",
     "output_type": "stream",
     "text": [
      "0.00019297092425159642\n",
      "0.014529436813796096\n"
     ]
    },
    {
     "data": {
      "image/png": "[encoded data removed]",
      "text/plain": [
       "<Figure size 432x288 with 1 Axes>"
      ]
     },
     "metadata": {
      "needs_background": "light"
     },
     "output_type": "display_data"
    }
   ],
   "source": [
    "dt_ratio = int(test_dt/GD.dt_integration)\n",
    "length_pred = 10\n",
    "plt.plot(y_pred.data.numpy()[:length_pred])\n",
    "plt.plot(catalog.true_solution[:length_pred*dt_ratio][::dt_ratio])\n",
    "plt.plot(catalog.euler_integration[:length_pred*dt_ratio][::dt_ratio])\n",
    "\n",
    "print(RMSE(catalog.true_solution[:length_pred*dt_ratio][::dt_ratio],catalog.euler_integration[:length_pred*dt_ratio][::dt_ratio]))\n",
    "print(RMSE(catalog.true_solution[:length_pred*dt_ratio][::dt_ratio],y_pred.data.numpy()[:length_pred]))"
   ]
  },
  {
   "cell_type": "markdown",
   "metadata": {},
   "source": [
    "# Stability analysis of the integration scheme with respect to Euler and RK4 schemes : \n",
    "\n",
    "We need first to write the integration scheme as $x_{t+1} = G(h) x{t}$ where $G$ is the gain matrix (here scalar since we are working in 1D).\n",
    "\n",
    "if G<1  : the integration scheme is stable \n",
    "if G=>1 : the integration scheme is unstable\n",
    "G = 1 when the integration time step = 0"
   ]
  },
  {
   "cell_type": "code",
   "execution_count": 9,
   "metadata": {},
   "outputs": [],
   "source": [
    "#extracting integration scheme params\n",
    "a=dyn_mdl2.a.data.numpy()\n",
    "b=dyn_mdl2.b.data.numpy()\n",
    "c=dyn_mdl2.c.data.numpy()\n",
    "\n",
    "import sympy as sp\n",
    "xt, h = sp.symbols('xt h')"
   ]
  },
  {
   "cell_type": "code",
   "execution_count": 10,
   "metadata": {},
   "outputs": [],
   "source": [
    "# computing analytic form of the integration scheme\n",
    "k = [(dyn_mdl2.Dyn_net.forward(xt))]\n",
    "for i in range(1,order):\n",
    "    coef_sum = 0\n",
    "    for j in range(0,i):\n",
    "        if j ==0:\n",
    "            if i == 1:\n",
    "                coef_sum = coef_sum + k[j]*(c[:,i])\n",
    "            else:\n",
    "                coef_sum = coef_sum + k[j]*(c[:,i]-a[:,i,1:i].sum(1))\n",
    "        else :\n",
    "            coef_sum = coef_sum + k[j]*a[:,i,j]\n",
    "    rk_inp = xt+h*coef_sum        \n",
    "    k.append((dyn_mdl2.Dyn_net.forward(rk_inp)))\n",
    "#            pred_sum = torch.autograd.Variable(torch.zeros(k[0].size()).double())\n",
    "pred_sum = 0   \n",
    "for i in range(0,order): \n",
    "    pred_sum = pred_sum+k[i]*b[:,i]\n",
    "    xt_1 = xt +h*pred_sum\n",
    "# extracting the gain factor\n",
    "g = xt_1.factor(xt)/xt"
   ]
  },
  {
   "cell_type": "code",
   "execution_count": 11,
   "metadata": {},
   "outputs": [],
   "source": [
    "# RK4 analytic integration scheme\n",
    "grad = dyn_mdl2.Dyn_net.forward(xt)\n",
    "k1   = dyn_mdl2.Dyn_net.forward(xt)\n",
    "k2   = dyn_mdl2.Dyn_net.forward(xt+0.5*h*k1)\n",
    "k3   = dyn_mdl2.Dyn_net.forward(xt+0.5*h*k2)\n",
    "k4   = dyn_mdl2.Dyn_net.forward(xt+h*k3)            \n",
    "xt_1RK4 = xt +h*(k1+2*k2+2*k3+k4)/6\n",
    "\n",
    "gRK4 = xt_1RK4.factor(xt)/xt"
   ]
  },
  {
   "cell_type": "code",
   "execution_count": 12,
   "metadata": {},
   "outputs": [],
   "source": [
    "# stability graph\n",
    "hi = np.arange(0,10+0.000001,GD.dt_integration)\n",
    "gainRK4 = np.zeros_like(hi)\n",
    "for i in range(len(hi)):\n",
    "    gainRK4[i] = np.abs(gRK4.evalf(subs={h: hi[i]}))\n",
    "gainE = np.zeros_like(hi)\n",
    "for i in range(len(hi)):\n",
    "    gainE[i] = np.abs(1-0.5*hi[i])\n",
    "gain = np.zeros_like(hi)\n",
    "for i in range(len(hi)):\n",
    "    gain[i] = np.abs(g.evalf(subs={h: hi[i]}))"
   ]
  },
  {
   "cell_type": "code",
   "execution_count": 13,
   "metadata": {},
   "outputs": [
    {
     "data": {
      "text/plain": [
       "<matplotlib.legend.Legend at 0x7f9394578198>"
      ]
     },
     "execution_count": 13,
     "metadata": {},
     "output_type": "execute_result"
    },
    {
     "data": {
      "image/png": "[encoded data removed]",
      "text/plain": [
       "<Figure size 432x288 with 1 Axes>"
      ]
     },
     "metadata": {
      "needs_background": "light"
     },
     "output_type": "display_data"
    }
   ],
   "source": [
    "length_h = 800\n",
    "\n",
    "plt.plot(hi[:],gainE[:],label = 'Euler')\n",
    "plt.plot(hi[:length_h],gain[:length_h],label = 'RINN 8')\n",
    "plt.plot(hi[:length_h],gainRK4[:length_h],label = 'RK4')\n",
    "plt.plot(hi[:length_h],np.ones_like(gainRK4[:length_h]))\n",
    "#plt.plot(hi[:600],np.abs(ff[-1].data.numpy()[:600]))\n",
    "plt.grid()\n",
    "plt.legend()"
   ]
  },
  {
   "cell_type": "code",
   "execution_count": 14,
   "metadata": {},
   "outputs": [
    {
     "data": {
      "text/plain": [
       "tensor(1., dtype=torch.float64, grad_fn=<SumBackward0>)"
      ]
     },
     "execution_count": 14,
     "metadata": {},
     "output_type": "execute_result"
    }
   ],
   "source": [
    "dyn_mdl2.b.sum() # RK constraint respected :)"
   ]
  },
  {
   "cell_type": "markdown",
   "metadata": {},
   "source": [
    "# Analytical expression of the gain G(h) as a 8 th order polynomial "
   ]
  },
  {
   "cell_type": "code",
   "execution_count": 15,
   "metadata": {},
   "outputs": [
    {
     "data": {
      "text/plain": [
       "1.1356582839362e-5*h**6 - 0.00117499694902036*h**5 + 0.00921012814759504*h**4 - 0.0474663168659302*h**3 + 0.140971373773926*h**2 - 0.5*h + 1.0"
      ]
     },
     "execution_count": 15,
     "metadata": {},
     "output_type": "execute_result"
    }
   ],
   "source": [
    "g"
   ]
  },
  {
   "cell_type": "markdown",
   "metadata": {},
   "source": [
    "# Optimization of the integration scheme to be stable in a given integration timestep range"
   ]
  },
  {
   "cell_type": "code",
   "execution_count": 16,
   "metadata": {},
   "outputs": [],
   "source": [
    "import torch\n",
    "import torch.nn.functional as F\n",
    "from torch.autograd import Variable\n",
    "\n",
    "class Gain(torch.nn.Module):\n",
    "    def __init__(self):\n",
    "        super(Gain, self).__init__()\n",
    "        self.Pred_net_RINN = dyn_mdl2\n",
    "\n",
    "    def forward(self, h_int, inp, order):\n",
    "        gain = Variable(torch.zeros(h_int.size()).double())\n",
    "        for i in range(h_int.shape[0]):\n",
    "            pred ,tmp, tmpp =self.Pred_net_RINN(inp, h_int[i], order)\n",
    "            gain[i] = tmpp[-1,0]\n",
    "            del pred, tmp, tmpp\n",
    "        return gain\n",
    "\n",
    "model_int = Gain()"
   ]
  },
  {
   "cell_type": "code",
   "execution_count": 17,
   "metadata": {},
   "outputs": [],
   "source": [
    "def customized_loss(x, y):\n",
    "        gain_to_zero = ((x-y+0.2))**2\n",
    "        return torch.mean(gain_to_zero)"
   ]
  },
  {
   "cell_type": "code",
   "execution_count": 18,
   "metadata": {},
   "outputs": [],
   "source": [
    "x = Variable(torch.from_numpy(X_train).double())\n",
    "y = Variable(torch.from_numpy(Y_train).double())\n",
    "z = Variable(torch.from_numpy(Grad_t).double())\n",
    "hi = np.arange(0,6+0.000001,0.1)\n",
    "h_int = Variable(torch.from_numpy(hi).double())\n",
    "gain_true = Variable(torch.from_numpy(np.ones_like(h_int)).double())"
   ]
  },
  {
   "cell_type": "code",
   "execution_count": 19,
   "metadata": {},
   "outputs": [
    {
     "name": "stdout",
     "output_type": "stream",
     "text": [
      "optim integration model\n",
      "0 tensor(3.0348, dtype=torch.float64, grad_fn=<MeanBackward0>)\n",
      "1 tensor(0.3660, dtype=torch.float64, grad_fn=<MeanBackward0>)\n",
      "2 tensor(0.4811, dtype=torch.float64, grad_fn=<MeanBackward0>)\n",
      "3 tensor(0.1912, dtype=torch.float64, grad_fn=<MeanBackward0>)\n",
      "4 tensor(0.1663, dtype=torch.float64, grad_fn=<MeanBackward0>)\n",
      "5 tensor(0.5625, dtype=torch.float64, grad_fn=<MeanBackward0>)\n",
      "6 tensor(0.5250, dtype=torch.float64, grad_fn=<MeanBackward0>)\n",
      "7 tensor(0.2420, dtype=torch.float64, grad_fn=<MeanBackward0>)\n",
      "8 tensor(0.2997, dtype=torch.float64, grad_fn=<MeanBackward0>)\n",
      "9 tensor(0.4844, dtype=torch.float64, grad_fn=<MeanBackward0>)\n",
      "10 tensor(0.3591, dtype=torch.float64, grad_fn=<MeanBackward0>)\n",
      "11 tensor(0.2007, dtype=torch.float64, grad_fn=<MeanBackward0>)\n",
      "12 tensor(0.2314, dtype=torch.float64, grad_fn=<MeanBackward0>)\n",
      "13 tensor(0.3007, dtype=torch.float64, grad_fn=<MeanBackward0>)\n",
      "14 tensor(0.2561, dtype=torch.float64, grad_fn=<MeanBackward0>)\n",
      "15 tensor(0.1513, dtype=torch.float64, grad_fn=<MeanBackward0>)\n",
      "16 tensor(0.1034, dtype=torch.float64, grad_fn=<MeanBackward0>)\n",
      "17 tensor(0.1329, dtype=torch.float64, grad_fn=<MeanBackward0>)\n",
      "18 tensor(0.1609, dtype=torch.float64, grad_fn=<MeanBackward0>)\n",
      "19 tensor(0.1307, dtype=torch.float64, grad_fn=<MeanBackward0>)\n",
      "20 tensor(0.0727, dtype=torch.float64, grad_fn=<MeanBackward0>)\n",
      "21 tensor(0.0422, dtype=torch.float64, grad_fn=<MeanBackward0>)\n",
      "22 tensor(0.0508, dtype=torch.float64, grad_fn=<MeanBackward0>)\n",
      "23 tensor(0.0672, dtype=torch.float64, grad_fn=<MeanBackward0>)\n",
      "24 tensor(0.0608, dtype=torch.float64, grad_fn=<MeanBackward0>)\n",
      "25 tensor(0.0363, dtype=torch.float64, grad_fn=<MeanBackward0>)\n",
      "26 tensor(0.0201, dtype=torch.float64, grad_fn=<MeanBackward0>)\n",
      "27 tensor(0.0248, dtype=torch.float64, grad_fn=<MeanBackward0>)\n",
      "28 tensor(0.0383, dtype=torch.float64, grad_fn=<MeanBackward0>)\n",
      "29 tensor(0.0418, dtype=torch.float64, grad_fn=<MeanBackward0>)\n",
      "30 tensor(0.0311, dtype=torch.float64, grad_fn=<MeanBackward0>)\n",
      "31 tensor(0.0182, dtype=torch.float64, grad_fn=<MeanBackward0>)\n",
      "32 tensor(0.0164, dtype=torch.float64, grad_fn=<MeanBackward0>)\n",
      "33 tensor(0.0247, dtype=torch.float64, grad_fn=<MeanBackward0>)\n",
      "34 tensor(0.0295, dtype=torch.float64, grad_fn=<MeanBackward0>)\n",
      "35 tensor(0.0236, dtype=torch.float64, grad_fn=<MeanBackward0>)\n",
      "36 tensor(0.0150, dtype=torch.float64, grad_fn=<MeanBackward0>)\n",
      "37 tensor(0.0140, dtype=torch.float64, grad_fn=<MeanBackward0>)\n",
      "38 tensor(0.0192, dtype=torch.float64, grad_fn=<MeanBackward0>)\n",
      "39 tensor(0.0220, dtype=torch.float64, grad_fn=<MeanBackward0>)\n",
      "40 tensor(0.0179, dtype=torch.float64, grad_fn=<MeanBackward0>)\n",
      "41 tensor(0.0120, dtype=torch.float64, grad_fn=<MeanBackward0>)\n",
      "42 tensor(0.0110, dtype=torch.float64, grad_fn=<MeanBackward0>)\n",
      "43 tensor(0.0141, dtype=torch.float64, grad_fn=<MeanBackward0>)\n",
      "44 tensor(0.0152, dtype=torch.float64, grad_fn=<MeanBackward0>)\n",
      "45 tensor(0.0121, dtype=torch.float64, grad_fn=<MeanBackward0>)\n",
      "46 tensor(0.0096, dtype=torch.float64, grad_fn=<MeanBackward0>)\n",
      "47 tensor(0.0113, dtype=torch.float64, grad_fn=<MeanBackward0>)\n",
      "48 tensor(0.0136, dtype=torch.float64, grad_fn=<MeanBackward0>)\n",
      "49 tensor(0.0122, dtype=torch.float64, grad_fn=<MeanBackward0>)\n",
      "50 tensor(0.0096, dtype=torch.float64, grad_fn=<MeanBackward0>)\n",
      "51 tensor(0.0099, dtype=torch.float64, grad_fn=<MeanBackward0>)\n",
      "52 tensor(0.0115, dtype=torch.float64, grad_fn=<MeanBackward0>)\n",
      "53 tensor(0.0110, dtype=torch.float64, grad_fn=<MeanBackward0>)\n",
      "54 tensor(0.0091, dtype=torch.float64, grad_fn=<MeanBackward0>)\n",
      "55 tensor(0.0087, dtype=torch.float64, grad_fn=<MeanBackward0>)\n",
      "56 tensor(0.0098, dtype=torch.float64, grad_fn=<MeanBackward0>)\n",
      "57 tensor(0.0100, dtype=torch.float64, grad_fn=<MeanBackward0>)\n",
      "58 tensor(0.0089, dtype=torch.float64, grad_fn=<MeanBackward0>)\n",
      "59 tensor(0.0085, dtype=torch.float64, grad_fn=<MeanBackward0>)\n",
      "60 tensor(0.0092, dtype=torch.float64, grad_fn=<MeanBackward0>)\n",
      "61 tensor(0.0095, dtype=torch.float64, grad_fn=<MeanBackward0>)\n",
      "62 tensor(0.0089, dtype=torch.float64, grad_fn=<MeanBackward0>)\n",
      "63 tensor(0.0083, dtype=torch.float64, grad_fn=<MeanBackward0>)\n",
      "64 tensor(0.0086, dtype=torch.float64, grad_fn=<MeanBackward0>)\n",
      "65 tensor(0.0089, dtype=torch.float64, grad_fn=<MeanBackward0>)\n",
      "66 tensor(0.0085, dtype=torch.float64, grad_fn=<MeanBackward0>)\n",
      "67 tensor(0.0080, dtype=torch.float64, grad_fn=<MeanBackward0>)\n",
      "68 tensor(0.0082, dtype=torch.float64, grad_fn=<MeanBackward0>)\n",
      "69 tensor(0.0084, dtype=torch.float64, grad_fn=<MeanBackward0>)\n",
      "70 tensor(0.0081, dtype=torch.float64, grad_fn=<MeanBackward0>)\n",
      "71 tensor(0.0079, dtype=torch.float64, grad_fn=<MeanBackward0>)\n",
      "72 tensor(0.0081, dtype=torch.float64, grad_fn=<MeanBackward0>)\n",
      "73 tensor(0.0082, dtype=torch.float64, grad_fn=<MeanBackward0>)\n",
      "74 tensor(0.0079, dtype=torch.float64, grad_fn=<MeanBackward0>)\n",
      "75 tensor(0.0078, dtype=torch.float64, grad_fn=<MeanBackward0>)\n",
      "76 tensor(0.0079, dtype=torch.float64, grad_fn=<MeanBackward0>)\n",
      "77 tensor(0.0079, dtype=torch.float64, grad_fn=<MeanBackward0>)\n",
      "78 tensor(0.0077, dtype=torch.float64, grad_fn=<MeanBackward0>)\n",
      "79 tensor(0.0076, dtype=torch.float64, grad_fn=<MeanBackward0>)\n",
      "80 tensor(0.0077, dtype=torch.float64, grad_fn=<MeanBackward0>)\n",
      "81 tensor(0.0077, dtype=torch.float64, grad_fn=<MeanBackward0>)\n",
      "82 tensor(0.0076, dtype=torch.float64, grad_fn=<MeanBackward0>)\n",
      "83 tensor(0.0076, dtype=torch.float64, grad_fn=<MeanBackward0>)\n",
      "84 tensor(0.0076, dtype=torch.float64, grad_fn=<MeanBackward0>)\n",
      "85 tensor(0.0076, dtype=torch.float64, grad_fn=<MeanBackward0>)\n",
      "86 tensor(0.0075, dtype=torch.float64, grad_fn=<MeanBackward0>)\n",
      "87 tensor(0.0075, dtype=torch.float64, grad_fn=<MeanBackward0>)\n",
      "88 tensor(0.0075, dtype=torch.float64, grad_fn=<MeanBackward0>)\n",
      "89 tensor(0.0074, dtype=torch.float64, grad_fn=<MeanBackward0>)\n",
      "90 tensor(0.0074, dtype=torch.float64, grad_fn=<MeanBackward0>)\n",
      "91 tensor(0.0074, dtype=torch.float64, grad_fn=<MeanBackward0>)\n",
      "92 tensor(0.0073, dtype=torch.float64, grad_fn=<MeanBackward0>)\n",
      "93 tensor(0.0073, dtype=torch.float64, grad_fn=<MeanBackward0>)\n",
      "94 tensor(0.0073, dtype=torch.float64, grad_fn=<MeanBackward0>)\n",
      "95 tensor(0.0073, dtype=torch.float64, grad_fn=<MeanBackward0>)\n",
      "96 tensor(0.0072, dtype=torch.float64, grad_fn=<MeanBackward0>)\n",
      "97 tensor(0.0072, dtype=torch.float64, grad_fn=<MeanBackward0>)\n",
      "98 tensor(0.0072, dtype=torch.float64, grad_fn=<MeanBackward0>)\n",
      "99 tensor(0.0072, dtype=torch.float64, grad_fn=<MeanBackward0>)\n"
     ]
    }
   ],
   "source": [
    "params['ntrain'][2] = 100\n",
    "criterion = torch.nn.MSELoss()\n",
    "optimizer = torch.optim.Adam(model_int.parameters(), lr = 0.1)   \n",
    "loss_hist = []        \n",
    "print ('optim integration model')\n",
    "for t in range(params['ntrain'][2]):\n",
    "    for b in range(x.shape[0]):\n",
    "        # Forward pass: Compute predicted gradients by passing x to the model\n",
    "        gain_op = model_int(h_int, x[b,:,:],order)\n",
    "        # Compute and print loss\n",
    "        loss = customized_loss((gain_op), gain_true)\n",
    "        # Zero gradients, perform a backward pass, and update the weights.\n",
    "        optimizer.zero_grad()\n",
    "        loss.backward(retain_graph=True)\n",
    "        optimizer.step()\n",
    "        print(t,loss)"
   ]
  },
  {
   "cell_type": "code",
   "execution_count": 20,
   "metadata": {},
   "outputs": [],
   "source": [
    "#forecasting \n",
    "y_pred=np.zeros((10000,1))\n",
    "y_pred[0,:] = 0.5\n",
    "tmp = np.reshape(0.5,(1,1))\n",
    "tmp = Variable(torch.from_numpy(tmp).double())\n",
    "y_pred = Variable(torch.from_numpy(y_pred).double())\n",
    "\n",
    "test_dt = 5.0\n",
    "for i in range(1,10000):\n",
    "    y_pred[i,:] = dyn_mdl2(y_pred[i-1,:],test_dt,order)[0]#.data.numpy()"
   ]
  },
  {
   "cell_type": "code",
   "execution_count": 21,
   "metadata": {},
   "outputs": [
    {
     "data": {
      "text/plain": [
       "[<matplotlib.lines.Line2D at 0x7f939454d780>]"
      ]
     },
     "execution_count": 21,
     "metadata": {},
     "output_type": "execute_result"
    },
    {
     "data": {
      "image/png": "[encoded data removed]",
      "text/plain": [
       "<Figure size 432x288 with 1 Axes>"
      ]
     },
     "metadata": {
      "needs_background": "light"
     },
     "output_type": "display_data"
    }
   ],
   "source": [
    "plt.plot(y_pred.data.numpy())"
   ]
  },
  {
   "cell_type": "code",
   "execution_count": 22,
   "metadata": {},
   "outputs": [],
   "source": [
    "# computing analytic form of the integration scheme\n",
    "a=dyn_mdl2.a.data.numpy()\n",
    "b=dyn_mdl2.b.data.numpy()\n",
    "c=dyn_mdl2.c.data.numpy()\n",
    "xt, h = sp.symbols('xt h')\n",
    "k = [(dyn_mdl2.Dyn_net.forward(xt))]\n",
    "for i in range(1,order):\n",
    "    coef_sum = 0\n",
    "    for j in range(0,i):\n",
    "        if j ==0:\n",
    "            if i == 1:\n",
    "                coef_sum = coef_sum + k[j]*(c[:,i])\n",
    "            else:\n",
    "                coef_sum = coef_sum + k[j]*(c[:,i]-a[:,i,1:i].sum(1))\n",
    "        else :\n",
    "            coef_sum = coef_sum + k[j]*a[:,i,j]\n",
    "    rk_inp = xt+h*coef_sum        \n",
    "    k.append((dyn_mdl2.Dyn_net.forward(rk_inp)))\n",
    "#            pred_sum = torch.autograd.Variable(torch.zeros(k[0].size()).double())\n",
    "pred_sum = 0   \n",
    "for i in range(0,order): \n",
    "    pred_sum = pred_sum+k[i]*b[:,i]\n",
    "    xt_1 = xt +h*pred_sum\n",
    "# extracting the gain factor\n",
    "g = xt_1.factor(xt)/xt"
   ]
  },
  {
   "cell_type": "code",
   "execution_count": 23,
   "metadata": {},
   "outputs": [],
   "source": [
    "hi = np.arange(0,10+0.000001,GD.dt_integration)\n",
    "gain_opti = np.zeros_like(hi)\n",
    "for i in range(len(hi)):\n",
    "    gain_opti[i] = np.abs(g.evalf(subs={h: hi[i]}))"
   ]
  },
  {
   "cell_type": "code",
   "execution_count": 24,
   "metadata": {},
   "outputs": [
    {
     "data": {
      "text/plain": [
       "<matplotlib.legend.Legend at 0x7f93944d6710>"
      ]
     },
     "execution_count": 24,
     "metadata": {},
     "output_type": "execute_result"
    },
    {
     "data": {
      "image/png": "[encoded data removed]",
      "text/plain": [
       "<Figure size 432x288 with 1 Axes>"
      ]
     },
     "metadata": {
      "needs_background": "light"
     },
     "output_type": "display_data"
    }
   ],
   "source": [
    "length_h = 600\n",
    "\n",
    "plt.plot(hi[:],gainE[:],label = 'Euler')\n",
    "plt.plot(hi[:length_h],gain[:length_h],label = 'RINN 6')\n",
    "plt.plot(hi[:length_h],gain_opti[:length_h],label = 'RINN 6 Opti')\n",
    "plt.plot(hi[:length_h],gainRK4[:length_h],label = 'RK4')\n",
    "plt.plot(hi[:length_h],np.ones_like(gainRK4[:length_h]))\n",
    "plt.grid()\n",
    "plt.legend()"
   ]
  },
  {
   "cell_type": "code",
   "execution_count": 25,
   "metadata": {},
   "outputs": [
    {
     "data": {
      "text/plain": [
       "tensor(0.0084, dtype=torch.float64, grad_fn=<SumBackward0>)"
      ]
     },
     "execution_count": 25,
     "metadata": {},
     "output_type": "execute_result"
    }
   ],
   "source": [
    "dyn_mdl2.b.sum() # RK constraint not respected :/"
   ]
  },
  {
   "cell_type": "code",
   "execution_count": 26,
   "metadata": {},
   "outputs": [
    {
     "data": {
      "text/plain": [
       "-5.10147498560913e-7*h**6 - 0.000131748244032749*h**5 - 0.00294338504599767*h**4 + 0.0419004652545637*h**3 - 0.123796669437187*h**2 - 0.00420686913513092*h + 1.0"
      ]
     },
     "execution_count": 26,
     "metadata": {},
     "output_type": "execute_result"
    }
   ],
   "source": [
    "g"
   ]
  },
  {
   "cell_type": "markdown",
   "metadata": {},
   "source": [
    "# Optimization of the integration scheme to be stable in a given integration timestep range, including RK constraints"
   ]
  },
  {
   "cell_type": "code",
   "execution_count": 27,
   "metadata": {},
   "outputs": [],
   "source": [
    "class applyRK_Constraints(object):\n",
    "        def __init__(self, frequency=1):\n",
    "            self.frequency = frequency\n",
    "    \n",
    "        def __call__(self, module):\n",
    "            if hasattr(module, 'b'):\n",
    "                module.b.data = (torch.abs(module.b.data))\n",
    "                module.b.data  =  ((module.b.data) / (module.b.data).sum(1,keepdim = True).expand_as(module.b.data))\n",
    "            if hasattr(module, 'c'):\n",
    "                module.c.data = module.c.data\n",
    "                module.c.data[:,0] = 0\n",
    "                module.c.data = module.c.data.sub_(torch.min(module.c.data)).div_(torch.max(module.c.data) - torch.min(module.c.data)).sort()[0]"
   ]
  },
  {
   "cell_type": "code",
   "execution_count": 28,
   "metadata": {},
   "outputs": [
    {
     "name": "stdout",
     "output_type": "stream",
     "text": [
      "optim integration model\n",
      "0 tensor(0.0071, dtype=torch.float64, grad_fn=<MeanBackward0>)\n",
      "1 tensor(0.5418, dtype=torch.float64, grad_fn=<MeanBackward0>)\n",
      "2 tensor(0.5338, dtype=torch.float64, grad_fn=<MeanBackward0>)\n",
      "3 tensor(0.5247, dtype=torch.float64, grad_fn=<MeanBackward0>)\n",
      "4 tensor(0.5152, dtype=torch.float64, grad_fn=<MeanBackward0>)\n",
      "5 tensor(0.5055, dtype=torch.float64, grad_fn=<MeanBackward0>)\n",
      "6 tensor(0.4956, dtype=torch.float64, grad_fn=<MeanBackward0>)\n",
      "7 tensor(0.4857, dtype=torch.float64, grad_fn=<MeanBackward0>)\n",
      "8 tensor(0.4756, dtype=torch.float64, grad_fn=<MeanBackward0>)\n",
      "9 tensor(0.4654, dtype=torch.float64, grad_fn=<MeanBackward0>)\n",
      "10 tensor(0.4550, dtype=torch.float64, grad_fn=<MeanBackward0>)\n",
      "11 tensor(0.4443, dtype=torch.float64, grad_fn=<MeanBackward0>)\n",
      "12 tensor(0.4334, dtype=torch.float64, grad_fn=<MeanBackward0>)\n",
      "13 tensor(0.4224, dtype=torch.float64, grad_fn=<MeanBackward0>)\n",
      "14 tensor(0.4112, dtype=torch.float64, grad_fn=<MeanBackward0>)\n",
      "15 tensor(0.4000, dtype=torch.float64, grad_fn=<MeanBackward0>)\n",
      "16 tensor(0.3887, dtype=torch.float64, grad_fn=<MeanBackward0>)\n",
      "17 tensor(0.3775, dtype=torch.float64, grad_fn=<MeanBackward0>)\n",
      "18 tensor(0.3663, dtype=torch.float64, grad_fn=<MeanBackward0>)\n",
      "19 tensor(0.3553, dtype=torch.float64, grad_fn=<MeanBackward0>)\n",
      "20 tensor(0.3443, dtype=torch.float64, grad_fn=<MeanBackward0>)\n",
      "21 tensor(0.3335, dtype=torch.float64, grad_fn=<MeanBackward0>)\n",
      "22 tensor(0.3229, dtype=torch.float64, grad_fn=<MeanBackward0>)\n",
      "23 tensor(0.3125, dtype=torch.float64, grad_fn=<MeanBackward0>)\n",
      "24 tensor(0.3024, dtype=torch.float64, grad_fn=<MeanBackward0>)\n",
      "25 tensor(0.2925, dtype=torch.float64, grad_fn=<MeanBackward0>)\n",
      "26 tensor(0.2830, dtype=torch.float64, grad_fn=<MeanBackward0>)\n",
      "27 tensor(0.2738, dtype=torch.float64, grad_fn=<MeanBackward0>)\n",
      "28 tensor(0.2650, dtype=torch.float64, grad_fn=<MeanBackward0>)\n",
      "29 tensor(0.2566, dtype=torch.float64, grad_fn=<MeanBackward0>)\n",
      "30 tensor(0.2485, dtype=torch.float64, grad_fn=<MeanBackward0>)\n",
      "31 tensor(0.2410, dtype=torch.float64, grad_fn=<MeanBackward0>)\n",
      "32 tensor(0.2339, dtype=torch.float64, grad_fn=<MeanBackward0>)\n",
      "33 tensor(0.2273, dtype=torch.float64, grad_fn=<MeanBackward0>)\n",
      "34 tensor(0.2211, dtype=torch.float64, grad_fn=<MeanBackward0>)\n",
      "35 tensor(0.2155, dtype=torch.float64, grad_fn=<MeanBackward0>)\n",
      "36 tensor(0.2104, dtype=torch.float64, grad_fn=<MeanBackward0>)\n",
      "37 tensor(0.2058, dtype=torch.float64, grad_fn=<MeanBackward0>)\n",
      "38 tensor(0.2018, dtype=torch.float64, grad_fn=<MeanBackward0>)\n",
      "39 tensor(0.1982, dtype=torch.float64, grad_fn=<MeanBackward0>)\n",
      "40 tensor(0.1951, dtype=torch.float64, grad_fn=<MeanBackward0>)\n",
      "41 tensor(0.1925, dtype=torch.float64, grad_fn=<MeanBackward0>)\n",
      "42 tensor(0.1902, dtype=torch.float64, grad_fn=<MeanBackward0>)\n",
      "43 tensor(0.1884, dtype=torch.float64, grad_fn=<MeanBackward0>)\n",
      "44 tensor(0.1870, dtype=torch.float64, grad_fn=<MeanBackward0>)\n",
      "45 tensor(0.1859, dtype=torch.float64, grad_fn=<MeanBackward0>)\n",
      "46 tensor(0.1850, dtype=torch.float64, grad_fn=<MeanBackward0>)\n",
      "47 tensor(0.1844, dtype=torch.float64, grad_fn=<MeanBackward0>)\n",
      "48 tensor(0.1839, dtype=torch.float64, grad_fn=<MeanBackward0>)\n",
      "49 tensor(0.1836, dtype=torch.float64, grad_fn=<MeanBackward0>)\n",
      "50 tensor(0.1833, dtype=torch.float64, grad_fn=<MeanBackward0>)\n",
      "51 tensor(0.1831, dtype=torch.float64, grad_fn=<MeanBackward0>)\n",
      "52 tensor(0.1829, dtype=torch.float64, grad_fn=<MeanBackward0>)\n",
      "53 tensor(0.1828, dtype=torch.float64, grad_fn=<MeanBackward0>)\n",
      "54 tensor(0.1826, dtype=torch.float64, grad_fn=<MeanBackward0>)\n",
      "55 tensor(0.1823, dtype=torch.float64, grad_fn=<MeanBackward0>)\n",
      "56 tensor(0.1821, dtype=torch.float64, grad_fn=<MeanBackward0>)\n",
      "57 tensor(0.1818, dtype=torch.float64, grad_fn=<MeanBackward0>)\n",
      "58 tensor(0.1814, dtype=torch.float64, grad_fn=<MeanBackward0>)\n",
      "59 tensor(0.1810, dtype=torch.float64, grad_fn=<MeanBackward0>)\n",
      "60 tensor(0.1806, dtype=torch.float64, grad_fn=<MeanBackward0>)\n",
      "61 tensor(0.1801, dtype=torch.float64, grad_fn=<MeanBackward0>)\n",
      "62 tensor(0.1797, dtype=torch.float64, grad_fn=<MeanBackward0>)\n",
      "63 tensor(0.1792, dtype=torch.float64, grad_fn=<MeanBackward0>)\n",
      "64 tensor(0.1787, dtype=torch.float64, grad_fn=<MeanBackward0>)\n",
      "65 tensor(0.1782, dtype=torch.float64, grad_fn=<MeanBackward0>)\n",
      "66 tensor(0.1777, dtype=torch.float64, grad_fn=<MeanBackward0>)\n",
      "67 tensor(0.1772, dtype=torch.float64, grad_fn=<MeanBackward0>)\n",
      "68 tensor(0.1767, dtype=torch.float64, grad_fn=<MeanBackward0>)\n",
      "69 tensor(0.1763, dtype=torch.float64, grad_fn=<MeanBackward0>)\n",
      "70 tensor(0.1758, dtype=torch.float64, grad_fn=<MeanBackward0>)\n",
      "71 tensor(0.1754, dtype=torch.float64, grad_fn=<MeanBackward0>)\n",
      "72 tensor(0.1749, dtype=torch.float64, grad_fn=<MeanBackward0>)\n",
      "73 tensor(0.1745, dtype=torch.float64, grad_fn=<MeanBackward0>)\n",
      "74 tensor(0.1741, dtype=torch.float64, grad_fn=<MeanBackward0>)\n",
      "75 tensor(0.1737, dtype=torch.float64, grad_fn=<MeanBackward0>)\n",
      "76 tensor(0.1734, dtype=torch.float64, grad_fn=<MeanBackward0>)\n",
      "77 tensor(0.1730, dtype=torch.float64, grad_fn=<MeanBackward0>)\n",
      "78 tensor(0.1726, dtype=torch.float64, grad_fn=<MeanBackward0>)\n",
      "79 tensor(0.1722, dtype=torch.float64, grad_fn=<MeanBackward0>)\n",
      "80 tensor(0.1719, dtype=torch.float64, grad_fn=<MeanBackward0>)\n",
      "81 tensor(0.1715, dtype=torch.float64, grad_fn=<MeanBackward0>)\n",
      "82 tensor(0.1711, dtype=torch.float64, grad_fn=<MeanBackward0>)\n",
      "83 tensor(0.1707, dtype=torch.float64, grad_fn=<MeanBackward0>)\n",
      "84 tensor(0.1703, dtype=torch.float64, grad_fn=<MeanBackward0>)\n",
      "85 tensor(0.1700, dtype=torch.float64, grad_fn=<MeanBackward0>)\n",
      "86 tensor(0.1696, dtype=torch.float64, grad_fn=<MeanBackward0>)\n",
      "87 tensor(0.1692, dtype=torch.float64, grad_fn=<MeanBackward0>)\n",
      "88 tensor(0.1687, dtype=torch.float64, grad_fn=<MeanBackward0>)\n",
      "89 tensor(0.1683, dtype=torch.float64, grad_fn=<MeanBackward0>)\n",
      "90 tensor(0.1679, dtype=torch.float64, grad_fn=<MeanBackward0>)\n",
      "91 tensor(0.1675, dtype=torch.float64, grad_fn=<MeanBackward0>)\n",
      "92 tensor(0.1671, dtype=torch.float64, grad_fn=<MeanBackward0>)\n",
      "93 tensor(0.1666, dtype=torch.float64, grad_fn=<MeanBackward0>)\n",
      "94 tensor(0.1662, dtype=torch.float64, grad_fn=<MeanBackward0>)\n",
      "95 tensor(0.1657, dtype=torch.float64, grad_fn=<MeanBackward0>)\n",
      "96 tensor(0.1653, dtype=torch.float64, grad_fn=<MeanBackward0>)\n",
      "97 tensor(0.1649, dtype=torch.float64, grad_fn=<MeanBackward0>)\n",
      "98 tensor(0.1644, dtype=torch.float64, grad_fn=<MeanBackward0>)\n",
      "99 tensor(0.1640, dtype=torch.float64, grad_fn=<MeanBackward0>)\n",
      "100 tensor(0.1635, dtype=torch.float64, grad_fn=<MeanBackward0>)\n",
      "101 tensor(0.1631, dtype=torch.float64, grad_fn=<MeanBackward0>)\n",
      "102 tensor(0.1626, dtype=torch.float64, grad_fn=<MeanBackward0>)\n",
      "103 tensor(0.1621, dtype=torch.float64, grad_fn=<MeanBackward0>)\n",
      "104 tensor(0.1617, dtype=torch.float64, grad_fn=<MeanBackward0>)\n",
      "105 tensor(0.1612, dtype=torch.float64, grad_fn=<MeanBackward0>)\n",
      "106 tensor(0.1608, dtype=torch.float64, grad_fn=<MeanBackward0>)\n",
      "107 tensor(0.1603, dtype=torch.float64, grad_fn=<MeanBackward0>)\n",
      "108 tensor(0.1599, dtype=torch.float64, grad_fn=<MeanBackward0>)\n",
      "109 tensor(0.1594, dtype=torch.float64, grad_fn=<MeanBackward0>)\n",
      "110 tensor(0.1590, dtype=torch.float64, grad_fn=<MeanBackward0>)\n",
      "111 tensor(0.1585, dtype=torch.float64, grad_fn=<MeanBackward0>)\n",
      "112 tensor(0.1580, dtype=torch.float64, grad_fn=<MeanBackward0>)\n",
      "113 tensor(0.1576, dtype=torch.float64, grad_fn=<MeanBackward0>)\n",
      "114 tensor(0.1571, dtype=torch.float64, grad_fn=<MeanBackward0>)\n",
      "115 tensor(0.1567, dtype=torch.float64, grad_fn=<MeanBackward0>)\n",
      "116 tensor(0.1562, dtype=torch.float64, grad_fn=<MeanBackward0>)\n",
      "117 tensor(0.1557, dtype=torch.float64, grad_fn=<MeanBackward0>)\n",
      "118 tensor(0.1553, dtype=torch.float64, grad_fn=<MeanBackward0>)\n",
      "119 tensor(0.1548, dtype=torch.float64, grad_fn=<MeanBackward0>)\n",
      "120 tensor(0.1543, dtype=torch.float64, grad_fn=<MeanBackward0>)\n",
      "121 tensor(0.1539, dtype=torch.float64, grad_fn=<MeanBackward0>)\n",
      "122 tensor(0.1534, dtype=torch.float64, grad_fn=<MeanBackward0>)\n",
      "123 tensor(0.1529, dtype=torch.float64, grad_fn=<MeanBackward0>)\n",
      "124 tensor(0.1525, dtype=torch.float64, grad_fn=<MeanBackward0>)\n",
      "125 tensor(0.1520, dtype=torch.float64, grad_fn=<MeanBackward0>)\n",
      "126 tensor(0.1515, dtype=torch.float64, grad_fn=<MeanBackward0>)\n",
      "127 tensor(0.1510, dtype=torch.float64, grad_fn=<MeanBackward0>)\n"
     ]
    },
    {
     "name": "stdout",
     "output_type": "stream",
     "text": [
      "128 tensor(0.1506, dtype=torch.float64, grad_fn=<MeanBackward0>)\n",
      "129 tensor(0.1501, dtype=torch.float64, grad_fn=<MeanBackward0>)\n",
      "130 tensor(0.1496, dtype=torch.float64, grad_fn=<MeanBackward0>)\n",
      "131 tensor(0.1491, dtype=torch.float64, grad_fn=<MeanBackward0>)\n",
      "132 tensor(0.1486, dtype=torch.float64, grad_fn=<MeanBackward0>)\n",
      "133 tensor(0.1482, dtype=torch.float64, grad_fn=<MeanBackward0>)\n",
      "134 tensor(0.1477, dtype=torch.float64, grad_fn=<MeanBackward0>)\n",
      "135 tensor(0.1472, dtype=torch.float64, grad_fn=<MeanBackward0>)\n",
      "136 tensor(0.1467, dtype=torch.float64, grad_fn=<MeanBackward0>)\n",
      "137 tensor(0.1462, dtype=torch.float64, grad_fn=<MeanBackward0>)\n",
      "138 tensor(0.1457, dtype=torch.float64, grad_fn=<MeanBackward0>)\n",
      "139 tensor(0.1452, dtype=torch.float64, grad_fn=<MeanBackward0>)\n",
      "140 tensor(0.1447, dtype=torch.float64, grad_fn=<MeanBackward0>)\n",
      "141 tensor(0.1443, dtype=torch.float64, grad_fn=<MeanBackward0>)\n",
      "142 tensor(0.1438, dtype=torch.float64, grad_fn=<MeanBackward0>)\n",
      "143 tensor(0.1433, dtype=torch.float64, grad_fn=<MeanBackward0>)\n",
      "144 tensor(0.1428, dtype=torch.float64, grad_fn=<MeanBackward0>)\n",
      "145 tensor(0.1423, dtype=torch.float64, grad_fn=<MeanBackward0>)\n",
      "146 tensor(0.1418, dtype=torch.float64, grad_fn=<MeanBackward0>)\n",
      "147 tensor(0.1413, dtype=torch.float64, grad_fn=<MeanBackward0>)\n",
      "148 tensor(0.1408, dtype=torch.float64, grad_fn=<MeanBackward0>)\n",
      "149 tensor(0.1403, dtype=torch.float64, grad_fn=<MeanBackward0>)\n",
      "150 tensor(0.1398, dtype=torch.float64, grad_fn=<MeanBackward0>)\n",
      "151 tensor(0.1393, dtype=torch.float64, grad_fn=<MeanBackward0>)\n",
      "152 tensor(0.1387, dtype=torch.float64, grad_fn=<MeanBackward0>)\n",
      "153 tensor(0.1383, dtype=torch.float64, grad_fn=<MeanBackward0>)\n",
      "154 tensor(0.1379, dtype=torch.float64, grad_fn=<MeanBackward0>)\n",
      "155 tensor(0.1375, dtype=torch.float64, grad_fn=<MeanBackward0>)\n",
      "156 tensor(0.1370, dtype=torch.float64, grad_fn=<MeanBackward0>)\n",
      "157 tensor(0.1366, dtype=torch.float64, grad_fn=<MeanBackward0>)\n",
      "158 tensor(0.1361, dtype=torch.float64, grad_fn=<MeanBackward0>)\n",
      "159 tensor(0.1357, dtype=torch.float64, grad_fn=<MeanBackward0>)\n",
      "160 tensor(0.1352, dtype=torch.float64, grad_fn=<MeanBackward0>)\n",
      "161 tensor(0.1348, dtype=torch.float64, grad_fn=<MeanBackward0>)\n",
      "162 tensor(0.1343, dtype=torch.float64, grad_fn=<MeanBackward0>)\n",
      "163 tensor(0.1339, dtype=torch.float64, grad_fn=<MeanBackward0>)\n",
      "164 tensor(0.1334, dtype=torch.float64, grad_fn=<MeanBackward0>)\n",
      "165 tensor(0.1330, dtype=torch.float64, grad_fn=<MeanBackward0>)\n",
      "166 tensor(0.1325, dtype=torch.float64, grad_fn=<MeanBackward0>)\n",
      "167 tensor(0.1321, dtype=torch.float64, grad_fn=<MeanBackward0>)\n",
      "168 tensor(0.1316, dtype=torch.float64, grad_fn=<MeanBackward0>)\n",
      "169 tensor(0.1312, dtype=torch.float64, grad_fn=<MeanBackward0>)\n",
      "170 tensor(0.1307, dtype=torch.float64, grad_fn=<MeanBackward0>)\n",
      "171 tensor(0.1303, dtype=torch.float64, grad_fn=<MeanBackward0>)\n",
      "172 tensor(0.1298, dtype=torch.float64, grad_fn=<MeanBackward0>)\n",
      "173 tensor(0.1295, dtype=torch.float64, grad_fn=<MeanBackward0>)\n",
      "174 tensor(0.1290, dtype=torch.float64, grad_fn=<MeanBackward0>)\n",
      "175 tensor(0.1286, dtype=torch.float64, grad_fn=<MeanBackward0>)\n",
      "176 tensor(0.1281, dtype=torch.float64, grad_fn=<MeanBackward0>)\n",
      "177 tensor(0.1277, dtype=torch.float64, grad_fn=<MeanBackward0>)\n",
      "178 tensor(0.1272, dtype=torch.float64, grad_fn=<MeanBackward0>)\n",
      "179 tensor(0.1268, dtype=torch.float64, grad_fn=<MeanBackward0>)\n",
      "180 tensor(0.1263, dtype=torch.float64, grad_fn=<MeanBackward0>)\n",
      "181 tensor(0.1260, dtype=torch.float64, grad_fn=<MeanBackward0>)\n",
      "182 tensor(0.1255, dtype=torch.float64, grad_fn=<MeanBackward0>)\n",
      "183 tensor(0.1251, dtype=torch.float64, grad_fn=<MeanBackward0>)\n",
      "184 tensor(0.1246, dtype=torch.float64, grad_fn=<MeanBackward0>)\n",
      "185 tensor(0.1242, dtype=torch.float64, grad_fn=<MeanBackward0>)\n",
      "186 tensor(0.1237, dtype=torch.float64, grad_fn=<MeanBackward0>)\n",
      "187 tensor(0.1234, dtype=torch.float64, grad_fn=<MeanBackward0>)\n",
      "188 tensor(0.1229, dtype=torch.float64, grad_fn=<MeanBackward0>)\n",
      "189 tensor(0.1225, dtype=torch.float64, grad_fn=<MeanBackward0>)\n",
      "190 tensor(0.1220, dtype=torch.float64, grad_fn=<MeanBackward0>)\n",
      "191 tensor(0.1217, dtype=torch.float64, grad_fn=<MeanBackward0>)\n",
      "192 tensor(0.1212, dtype=torch.float64, grad_fn=<MeanBackward0>)\n",
      "193 tensor(0.1208, dtype=torch.float64, grad_fn=<MeanBackward0>)\n",
      "194 tensor(0.1203, dtype=torch.float64, grad_fn=<MeanBackward0>)\n",
      "195 tensor(0.1200, dtype=torch.float64, grad_fn=<MeanBackward0>)\n",
      "196 tensor(0.1195, dtype=torch.float64, grad_fn=<MeanBackward0>)\n",
      "197 tensor(0.1191, dtype=torch.float64, grad_fn=<MeanBackward0>)\n",
      "198 tensor(0.1187, dtype=torch.float64, grad_fn=<MeanBackward0>)\n",
      "199 tensor(0.1183, dtype=torch.float64, grad_fn=<MeanBackward0>)\n"
     ]
    }
   ],
   "source": [
    "clipper = applyRK_Constraints()  \n",
    "params['ntrain'][2] = 200\n",
    "criterion = torch.nn.MSELoss()\n",
    "optimizer = torch.optim.Adam(model_int.parameters(), lr = 0.001)   \n",
    "loss_hist = []        \n",
    "print ('optim integration model')\n",
    "for t in range(params['ntrain'][2]):\n",
    "    for b in range(x.shape[0]):\n",
    "        # Forward pass: Compute predicted gradients by passing x to the model\n",
    "        gain_op = model_int(h_int, x[b,:,:],order)\n",
    "        # Compute and print loss\n",
    "        loss = customized_loss((gain_op), gain_true)\n",
    "        # Zero gradients, perform a backward pass, and update the weights.\n",
    "        optimizer.zero_grad()\n",
    "        loss.backward(retain_graph=True)\n",
    "        optimizer.step()\n",
    "        model_int.Pred_net_RINN.apply(clipper)\n",
    "        print(t,loss)"
   ]
  },
  {
   "cell_type": "code",
   "execution_count": 29,
   "metadata": {},
   "outputs": [],
   "source": [
    "# computing analytic form of the integration scheme\n",
    "a=dyn_mdl2.a.data.numpy()\n",
    "b=dyn_mdl2.b.data.numpy()\n",
    "c=dyn_mdl2.c.data.numpy()\n",
    "xt, h = sp.symbols('xt h')\n",
    "k = [(dyn_mdl2.Dyn_net.forward(xt))]\n",
    "for i in range(1,order):\n",
    "    coef_sum = 0\n",
    "    for j in range(0,i):\n",
    "        if j ==0:\n",
    "            if i == 1:\n",
    "                coef_sum = coef_sum + k[j]*(c[:,i])\n",
    "            else:\n",
    "                coef_sum = coef_sum + k[j]*(c[:,i]-a[:,i,1:i].sum(1))\n",
    "        else :\n",
    "            coef_sum = coef_sum + k[j]*a[:,i,j]\n",
    "    rk_inp = xt+h*coef_sum        \n",
    "    k.append((dyn_mdl2.Dyn_net.forward(rk_inp)))\n",
    "#            pred_sum = torch.autograd.Variable(torch.zeros(k[0].size()).double())\n",
    "pred_sum = 0   \n",
    "for i in range(0,order): \n",
    "    pred_sum = pred_sum+k[i]*b[:,i]\n",
    "    xt_1 = xt +h*pred_sum\n",
    "# extracting the gain factor\n",
    "g = xt_1.factor(xt)/xt"
   ]
  },
  {
   "cell_type": "code",
   "execution_count": 30,
   "metadata": {},
   "outputs": [],
   "source": [
    "hi = np.arange(0,10+0.000001,GD.dt_integration)\n",
    "gain_opti_const = np.zeros_like(hi)\n",
    "for i in range(len(hi)):\n",
    "    gain_opti_const[i] = np.abs(g.evalf(subs={h: hi[i]}))"
   ]
  },
  {
   "cell_type": "code",
   "execution_count": 31,
   "metadata": {},
   "outputs": [
    {
     "data": {
      "text/plain": [
       "<matplotlib.legend.Legend at 0x7f939444deb8>"
      ]
     },
     "execution_count": 31,
     "metadata": {},
     "output_type": "execute_result"
    },
    {
     "data": {
      "image/png": "[encoded data removed]",
      "text/plain": [
       "<Figure size 432x288 with 1 Axes>"
      ]
     },
     "metadata": {
      "needs_background": "light"
     },
     "output_type": "display_data"
    }
   ],
   "source": [
    "length_h = 700\n",
    "\n",
    "plt.plot(hi[:],gainE[:],label = 'Euler')\n",
    "plt.plot(hi[:500],gain[:500],label = 'RINN 6')\n",
    "plt.plot(hi[:length_h],gain_opti[:length_h],label = 'RINN 6 Opti')\n",
    "plt.plot(hi[:length_h],gain_opti_const[:length_h],label = 'RINN 6 Contraint')\n",
    "plt.plot(hi[:length_h],gainRK4[:length_h],label = 'RK4')\n",
    "plt.plot(hi[:length_h],np.ones_like(gainRK4[:length_h]))\n",
    "plt.grid()\n",
    "plt.legend()"
   ]
  },
  {
   "cell_type": "code",
   "execution_count": 32,
   "metadata": {},
   "outputs": [
    {
     "data": {
      "text/plain": [
       "tensor(1., dtype=torch.float64, grad_fn=<SumBackward0>)"
      ]
     },
     "execution_count": 32,
     "metadata": {},
     "output_type": "execute_result"
    }
   ],
   "source": [
    "dyn_mdl2.b.sum() # RK constraint respected :)"
   ]
  },
  {
   "cell_type": "code",
   "execution_count": 33,
   "metadata": {},
   "outputs": [
    {
     "data": {
      "text/plain": [
       "-1.70259133633903e-7*h**6 - 4.11713175384623e-6*h**5 + 0.00155825026652975*h**4 - 0.0129243286240105*h**3 + 0.114258657183262*h**2 - 0.5*h + 1.0"
      ]
     },
     "execution_count": 33,
     "metadata": {},
     "output_type": "execute_result"
    }
   ],
   "source": [
    "g"
   ]
  }
 ],
 "metadata": {
  "anaconda-cloud": {},
  "kernelspec": {
   "display_name": "Python 3",
   "language": "python",
   "name": "python3"
  },
  "language_info": {
   "codemirror_mode": {
    "name": "ipython",
    "version": 3
   },
   "file_extension": ".py",
   "mimetype": "text/x-python",
   "name": "python",
   "nbconvert_exporter": "python",
   "pygments_lexer": "ipython3",
   "version": "3.7.4"
  }
 },
 "nbformat": 4,
 "nbformat_minor": 2
}
